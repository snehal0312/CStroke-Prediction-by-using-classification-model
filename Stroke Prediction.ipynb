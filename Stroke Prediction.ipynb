{
 "cells": [
  {
   "cell_type": "markdown",
   "id": "bd6de5d3",
   "metadata": {},
   "source": [
    "# Stroke"
   ]
  },
  {
   "cell_type": "code",
   "execution_count": 1,
   "id": "421697a6",
   "metadata": {},
   "outputs": [],
   "source": [
    "# Importing Required Libraries\n",
    "\n",
    "import pandas as pd\n",
    "import numpy as np\n",
    "import matplotlib.pyplot as plt\n",
    "import seaborn as sns\n",
    "import plotly.express as px"
   ]
  },
  {
   "cell_type": "markdown",
   "id": "b07e15d1",
   "metadata": {},
   "source": [
    "### Importing dataset "
   ]
  },
  {
   "cell_type": "code",
   "execution_count": 2,
   "id": "a5f35c04",
   "metadata": {},
   "outputs": [
    {
     "data": {
      "text/plain": [
       "(5110, 12)"
      ]
     },
     "execution_count": 2,
     "metadata": {},
     "output_type": "execute_result"
    }
   ],
   "source": [
    "# Importing the dataset\n",
    "\n",
    "stroke = pd.read_csv(r\"D:\\Capstone_project_2\\healthcare-dataset-stroke-data.csv\")\n",
    "stroke.shape"
   ]
  },
  {
   "cell_type": "code",
   "execution_count": 3,
   "id": "558cdfce",
   "metadata": {},
   "outputs": [
    {
     "data": {
      "text/html": [
       "<div>\n",
       "<style scoped>\n",
       "    .dataframe tbody tr th:only-of-type {\n",
       "        vertical-align: middle;\n",
       "    }\n",
       "\n",
       "    .dataframe tbody tr th {\n",
       "        vertical-align: top;\n",
       "    }\n",
       "\n",
       "    .dataframe thead th {\n",
       "        text-align: right;\n",
       "    }\n",
       "</style>\n",
       "<table border=\"1\" class=\"dataframe\">\n",
       "  <thead>\n",
       "    <tr style=\"text-align: right;\">\n",
       "      <th></th>\n",
       "      <th>id</th>\n",
       "      <th>gender</th>\n",
       "      <th>age</th>\n",
       "      <th>hypertension</th>\n",
       "      <th>heart_disease</th>\n",
       "      <th>ever_married</th>\n",
       "      <th>work_type</th>\n",
       "      <th>Residence_type</th>\n",
       "      <th>avg_glucose_level</th>\n",
       "      <th>bmi</th>\n",
       "      <th>smoking_status</th>\n",
       "      <th>stroke</th>\n",
       "    </tr>\n",
       "  </thead>\n",
       "  <tbody>\n",
       "    <tr>\n",
       "      <th>0</th>\n",
       "      <td>9046</td>\n",
       "      <td>Male</td>\n",
       "      <td>67.0</td>\n",
       "      <td>0</td>\n",
       "      <td>1</td>\n",
       "      <td>Yes</td>\n",
       "      <td>Private</td>\n",
       "      <td>Urban</td>\n",
       "      <td>228.69</td>\n",
       "      <td>36.6</td>\n",
       "      <td>formerly smoked</td>\n",
       "      <td>1</td>\n",
       "    </tr>\n",
       "    <tr>\n",
       "      <th>1</th>\n",
       "      <td>51676</td>\n",
       "      <td>Female</td>\n",
       "      <td>61.0</td>\n",
       "      <td>0</td>\n",
       "      <td>0</td>\n",
       "      <td>Yes</td>\n",
       "      <td>Self-employed</td>\n",
       "      <td>Rural</td>\n",
       "      <td>202.21</td>\n",
       "      <td>NaN</td>\n",
       "      <td>never smoked</td>\n",
       "      <td>1</td>\n",
       "    </tr>\n",
       "    <tr>\n",
       "      <th>2</th>\n",
       "      <td>31112</td>\n",
       "      <td>Male</td>\n",
       "      <td>80.0</td>\n",
       "      <td>0</td>\n",
       "      <td>1</td>\n",
       "      <td>Yes</td>\n",
       "      <td>Private</td>\n",
       "      <td>Rural</td>\n",
       "      <td>105.92</td>\n",
       "      <td>32.5</td>\n",
       "      <td>never smoked</td>\n",
       "      <td>1</td>\n",
       "    </tr>\n",
       "    <tr>\n",
       "      <th>3</th>\n",
       "      <td>60182</td>\n",
       "      <td>Female</td>\n",
       "      <td>49.0</td>\n",
       "      <td>0</td>\n",
       "      <td>0</td>\n",
       "      <td>Yes</td>\n",
       "      <td>Private</td>\n",
       "      <td>Urban</td>\n",
       "      <td>171.23</td>\n",
       "      <td>34.4</td>\n",
       "      <td>smokes</td>\n",
       "      <td>1</td>\n",
       "    </tr>\n",
       "    <tr>\n",
       "      <th>4</th>\n",
       "      <td>1665</td>\n",
       "      <td>Female</td>\n",
       "      <td>79.0</td>\n",
       "      <td>1</td>\n",
       "      <td>0</td>\n",
       "      <td>Yes</td>\n",
       "      <td>Self-employed</td>\n",
       "      <td>Rural</td>\n",
       "      <td>174.12</td>\n",
       "      <td>24.0</td>\n",
       "      <td>never smoked</td>\n",
       "      <td>1</td>\n",
       "    </tr>\n",
       "  </tbody>\n",
       "</table>\n",
       "</div>"
      ],
      "text/plain": [
       "      id  gender   age  hypertension  heart_disease ever_married  \\\n",
       "0   9046    Male  67.0             0              1          Yes   \n",
       "1  51676  Female  61.0             0              0          Yes   \n",
       "2  31112    Male  80.0             0              1          Yes   \n",
       "3  60182  Female  49.0             0              0          Yes   \n",
       "4   1665  Female  79.0             1              0          Yes   \n",
       "\n",
       "       work_type Residence_type  avg_glucose_level   bmi   smoking_status  \\\n",
       "0        Private          Urban             228.69  36.6  formerly smoked   \n",
       "1  Self-employed          Rural             202.21   NaN     never smoked   \n",
       "2        Private          Rural             105.92  32.5     never smoked   \n",
       "3        Private          Urban             171.23  34.4           smokes   \n",
       "4  Self-employed          Rural             174.12  24.0     never smoked   \n",
       "\n",
       "   stroke  \n",
       "0       1  \n",
       "1       1  \n",
       "2       1  \n",
       "3       1  \n",
       "4       1  "
      ]
     },
     "execution_count": 3,
     "metadata": {},
     "output_type": "execute_result"
    }
   ],
   "source": [
    "stroke.head()"
   ]
  },
  {
   "cell_type": "code",
   "execution_count": 4,
   "id": "223d67a6",
   "metadata": {},
   "outputs": [
    {
     "data": {
      "text/plain": [
       "No     4861\n",
       "Yes     249\n",
       "Name: stroke, dtype: int64"
      ]
     },
     "execution_count": 4,
     "metadata": {},
     "output_type": "execute_result"
    }
   ],
   "source": [
    "# Value counts of the Target Variable\n",
    "# Here we can see that there is high class imbalance in our target variable\n",
    "\n",
    "stroke.stroke.value_counts()"
   ]
  },
  {
   "cell_type": "markdown",
   "id": "142daadf",
   "metadata": {},
   "source": [
    "### Missing value imputation "
   ]
  },
  {
   "cell_type": "code",
   "execution_count": 5,
   "id": "c9a79d11",
   "metadata": {},
   "outputs": [
    {
     "data": {
      "text/plain": [
       "id                     0\n",
       "gender                 0\n",
       "age                    0\n",
       "hypertension           0\n",
       "heart_disease          0\n",
       "ever_married           0\n",
       "work_type              0\n",
       "Residence_type         0\n",
       "avg_glucose_level      0\n",
       "bmi                  201\n",
       "smoking_status         0\n",
       "stroke                 0\n",
       "dtype: int64"
      ]
     },
     "execution_count": 5,
     "metadata": {},
     "output_type": "execute_result"
    }
   ],
   "source": [
    "# Checking the null values in the dataset\n",
    "\n",
    "stroke.isnull().sum()"
   ]
  },
  {
   "cell_type": "code",
   "execution_count": 6,
   "id": "990b3600",
   "metadata": {},
   "outputs": [],
   "source": [
    "# We have nulls present in only one column i.e. bmi\n",
    "# bmi column is of float type so we will fill the nulls by median value.\n",
    "\n",
    "stroke.bmi = stroke.bmi.fillna(stroke.bmi.median())"
   ]
  },
  {
   "cell_type": "code",
   "execution_count": 7,
   "id": "c5fbd40f",
   "metadata": {},
   "outputs": [
    {
     "name": "stdout",
     "output_type": "stream",
     "text": [
      "<class 'pandas.core.frame.DataFrame'>\n",
      "RangeIndex: 5110 entries, 0 to 5109\n",
      "Data columns (total 12 columns):\n",
      " #   Column             Non-Null Count  Dtype  \n",
      "---  ------             --------------  -----  \n",
      " 0   id                 5110 non-null   int64  \n",
      " 1   gender             5110 non-null   object \n",
      " 2   age                5110 non-null   float64\n",
      " 3   hypertension       5110 non-null   int64  \n",
      " 4   heart_disease      5110 non-null   int64  \n",
      " 5   ever_married       5110 non-null   object \n",
      " 6   work_type          5110 non-null   object \n",
      " 7   Residence_type     5110 non-null   object \n",
      " 8   avg_glucose_level  5110 non-null   float64\n",
      " 9   bmi                5110 non-null   float64\n",
      " 10  smoking_status     5110 non-null   object \n",
      " 11  stroke             5110 non-null   object \n",
      "dtypes: float64(3), int64(3), object(6)\n",
      "memory usage: 479.2+ KB\n"
     ]
    }
   ],
   "source": [
    "stroke.info()"
   ]
  },
  {
   "cell_type": "code",
   "execution_count": 8,
   "id": "494bc34b",
   "metadata": {},
   "outputs": [],
   "source": [
    "# We do not want id column while creating a model\n",
    "# So we will drop the id column\n",
    "\n",
    "stroke = stroke.iloc[:,1:]"
   ]
  },
  {
   "cell_type": "markdown",
   "id": "2c2ab98c",
   "metadata": {},
   "source": [
    "### Converting categorical data into numeric"
   ]
  },
  {
   "cell_type": "code",
   "execution_count": 9,
   "id": "9aaae09a",
   "metadata": {
    "scrolled": true
   },
   "outputs": [
    {
     "name": "stdout",
     "output_type": "stream",
     "text": [
      "<class 'pandas.core.frame.DataFrame'>\n",
      "RangeIndex: 5110 entries, 0 to 5109\n",
      "Data columns (total 11 columns):\n",
      " #   Column             Non-Null Count  Dtype  \n",
      "---  ------             --------------  -----  \n",
      " 0   gender             5110 non-null   object \n",
      " 1   age                5110 non-null   float64\n",
      " 2   hypertension       5110 non-null   int64  \n",
      " 3   heart_disease      5110 non-null   int64  \n",
      " 4   ever_married       5110 non-null   object \n",
      " 5   work_type          5110 non-null   object \n",
      " 6   Residence_type     5110 non-null   object \n",
      " 7   avg_glucose_level  5110 non-null   float64\n",
      " 8   bmi                5110 non-null   float64\n",
      " 9   smoking_status     5110 non-null   object \n",
      " 10  stroke             5110 non-null   object \n",
      "dtypes: float64(3), int64(2), object(6)\n",
      "memory usage: 439.3+ KB\n"
     ]
    }
   ],
   "source": [
    "# Checking the datatypes of ever column in the dataset\n",
    "\n",
    "stroke.info()"
   ]
  },
  {
   "cell_type": "code",
   "execution_count": 10,
   "id": "fa386bba",
   "metadata": {},
   "outputs": [
    {
     "data": {
      "text/plain": [
       "Female    2994\n",
       "Male      2115\n",
       "Other        1\n",
       "Name: gender, dtype: int64"
      ]
     },
     "execution_count": 10,
     "metadata": {},
     "output_type": "execute_result"
    }
   ],
   "source": [
    "stroke.gender.value_counts()"
   ]
  },
  {
   "cell_type": "code",
   "execution_count": 11,
   "id": "07439dd2",
   "metadata": {},
   "outputs": [
    {
     "data": {
      "text/plain": [
       "Yes    3353\n",
       "No     1757\n",
       "Name: ever_married, dtype: int64"
      ]
     },
     "execution_count": 11,
     "metadata": {},
     "output_type": "execute_result"
    }
   ],
   "source": [
    "stroke.ever_married.value_counts()"
   ]
  },
  {
   "cell_type": "code",
   "execution_count": 12,
   "id": "3325161b",
   "metadata": {},
   "outputs": [
    {
     "data": {
      "text/plain": [
       "Private          2925\n",
       "Self-employed     819\n",
       "children          687\n",
       "Govt_job          657\n",
       "Never_worked       22\n",
       "Name: work_type, dtype: int64"
      ]
     },
     "execution_count": 12,
     "metadata": {},
     "output_type": "execute_result"
    }
   ],
   "source": [
    "stroke.work_type.value_counts()"
   ]
  },
  {
   "cell_type": "code",
   "execution_count": 13,
   "id": "6555641a",
   "metadata": {},
   "outputs": [
    {
     "data": {
      "text/plain": [
       "Urban    2596\n",
       "Rural    2514\n",
       "Name: Residence_type, dtype: int64"
      ]
     },
     "execution_count": 13,
     "metadata": {},
     "output_type": "execute_result"
    }
   ],
   "source": [
    "stroke.Residence_type.value_counts()"
   ]
  },
  {
   "cell_type": "code",
   "execution_count": 14,
   "id": "0ea470cf",
   "metadata": {},
   "outputs": [
    {
     "data": {
      "text/plain": [
       "never smoked       1892\n",
       "Unknown            1544\n",
       "formerly smoked     885\n",
       "smokes              789\n",
       "Name: smoking_status, dtype: int64"
      ]
     },
     "execution_count": 14,
     "metadata": {},
     "output_type": "execute_result"
    }
   ],
   "source": [
    "stroke.smoking_status.value_counts()"
   ]
  },
  {
   "cell_type": "code",
   "execution_count": 15,
   "id": "07529483",
   "metadata": {},
   "outputs": [
    {
     "data": {
      "text/plain": [
       "No     4861\n",
       "Yes     249\n",
       "Name: stroke, dtype: int64"
      ]
     },
     "execution_count": 15,
     "metadata": {},
     "output_type": "execute_result"
    }
   ],
   "source": [
    "stroke.stroke.value_counts()"
   ]
  },
  {
   "cell_type": "code",
   "execution_count": 16,
   "id": "ae7fac86",
   "metadata": {},
   "outputs": [],
   "source": [
    "# Now we will convert categorical data into numeric\n",
    "\n",
    "stroke.gender.replace({'Female':0,'Male':1,'Other':2},inplace=True)\n",
    "stroke.ever_married.replace({'No':0,'Yes':1},inplace=True)\n",
    "stroke.work_type.replace({'Private':0,'Self-employed':1,'children':2,'Govt_job':3,'Never_worked':4},inplace=True)\n",
    "stroke.Residence_type.replace({'Urban':0,'Rural':1},inplace=True)\n",
    "stroke.smoking_status.replace({'never smoked':0,'Unknown':1,'formerly smoked':2,'smokes':3},inplace=True)\n",
    "stroke.stroke.replace({'No':0, 'Yes':1},inplace=True)"
   ]
  },
  {
   "cell_type": "code",
   "execution_count": 17,
   "id": "11312fcb",
   "metadata": {},
   "outputs": [
    {
     "name": "stdout",
     "output_type": "stream",
     "text": [
      "<class 'pandas.core.frame.DataFrame'>\n",
      "RangeIndex: 5110 entries, 0 to 5109\n",
      "Data columns (total 11 columns):\n",
      " #   Column             Non-Null Count  Dtype  \n",
      "---  ------             --------------  -----  \n",
      " 0   gender             5110 non-null   int64  \n",
      " 1   age                5110 non-null   float64\n",
      " 2   hypertension       5110 non-null   int64  \n",
      " 3   heart_disease      5110 non-null   int64  \n",
      " 4   ever_married       5110 non-null   int64  \n",
      " 5   work_type          5110 non-null   int64  \n",
      " 6   Residence_type     5110 non-null   int64  \n",
      " 7   avg_glucose_level  5110 non-null   float64\n",
      " 8   bmi                5110 non-null   float64\n",
      " 9   smoking_status     5110 non-null   int64  \n",
      " 10  stroke             5110 non-null   int64  \n",
      "dtypes: float64(3), int64(8)\n",
      "memory usage: 439.3 KB\n"
     ]
    }
   ],
   "source": [
    "stroke.info()"
   ]
  },
  {
   "cell_type": "markdown",
   "id": "3053b2f3",
   "metadata": {},
   "source": [
    "### Splitting the data into train and test "
   ]
  },
  {
   "cell_type": "code",
   "execution_count": 18,
   "id": "93286489",
   "metadata": {},
   "outputs": [],
   "source": [
    "# Splitting the dataset into train and test \n",
    "\n",
    "from sklearn.model_selection import train_test_split\n",
    "train, test = train_test_split(stroke, test_size=.2,stratify=stroke.stroke)"
   ]
  },
  {
   "cell_type": "code",
   "execution_count": 19,
   "id": "12539cad",
   "metadata": {},
   "outputs": [
    {
     "data": {
      "text/plain": [
       "0    3889\n",
       "1     199\n",
       "Name: stroke, dtype: int64"
      ]
     },
     "execution_count": 19,
     "metadata": {},
     "output_type": "execute_result"
    }
   ],
   "source": [
    "# value counts of the target variable in train \n",
    "\n",
    "train.stroke.value_counts()"
   ]
  },
  {
   "cell_type": "code",
   "execution_count": 20,
   "id": "a24dcd73",
   "metadata": {},
   "outputs": [],
   "source": [
    "# Dividing train and test into independent and target variables.\n",
    "# i.e. train_x, train_y, test_x, test_y\n",
    "\n",
    "train_x = train.iloc[:,:-1]\n",
    "train_y = train.iloc[:,-1]\n",
    "\n",
    "test_x = test.iloc[:,:-1]\n",
    "test_y = test.iloc[:,-1]"
   ]
  },
  {
   "cell_type": "code",
   "execution_count": 21,
   "id": "a506669a",
   "metadata": {},
   "outputs": [],
   "source": [
    "# As we can see that there is a high class imbalance in our dataset\n",
    "# So we will do over-sampling using SMOTE(Synthetic Minority Over-sampling Technique)\n",
    "\n",
    "from imblearn.over_sampling import SMOTE\n",
    "sm = SMOTE()"
   ]
  },
  {
   "cell_type": "code",
   "execution_count": 22,
   "id": "145986a6",
   "metadata": {},
   "outputs": [],
   "source": [
    "# We will only do over-sampling on train dataframe only\n",
    "\n",
    "train_x, train_y = sm.fit_resample(train_x, train_y)"
   ]
  },
  {
   "cell_type": "code",
   "execution_count": 23,
   "id": "8d4bf957",
   "metadata": {},
   "outputs": [
    {
     "data": {
      "text/plain": [
       "0    3889\n",
       "1    3889\n",
       "Name: stroke, dtype: int64"
      ]
     },
     "execution_count": 23,
     "metadata": {},
     "output_type": "execute_result"
    }
   ],
   "source": [
    "train_y.value_counts()"
   ]
  },
  {
   "cell_type": "code",
   "execution_count": 24,
   "id": "65b4b1c6",
   "metadata": {},
   "outputs": [],
   "source": [
    "# We will create a list of classification algorithm for voting classifier\n",
    "\n",
    "estimators = []"
   ]
  },
  {
   "cell_type": "code",
   "execution_count": 25,
   "id": "e646a0e3",
   "metadata": {},
   "outputs": [],
   "source": [
    "algorithm = []\n",
    "accuracy = []\n",
    "Recall0 = []\n",
    "Recall1 = []"
   ]
  },
  {
   "cell_type": "markdown",
   "id": "9c589e58",
   "metadata": {},
   "source": [
    "### Model Selection "
   ]
  },
  {
   "cell_type": "markdown",
   "id": "ff28e291",
   "metadata": {},
   "source": [
    "#### Decision Tree "
   ]
  },
  {
   "cell_type": "code",
   "execution_count": 26,
   "id": "627484cd",
   "metadata": {},
   "outputs": [],
   "source": [
    "from sklearn.tree import DecisionTreeClassifier\n",
    "dt = DecisionTreeClassifier()"
   ]
  },
  {
   "cell_type": "code",
   "execution_count": 27,
   "id": "b84c0ce7",
   "metadata": {},
   "outputs": [],
   "source": [
    "estimators.append(('DT',dt))"
   ]
  },
  {
   "cell_type": "code",
   "execution_count": 28,
   "id": "0d2ae157",
   "metadata": {},
   "outputs": [
    {
     "data": {
      "text/plain": [
       "DecisionTreeClassifier()"
      ]
     },
     "execution_count": 28,
     "metadata": {},
     "output_type": "execute_result"
    }
   ],
   "source": [
    "dt.fit(train_x, train_y)"
   ]
  },
  {
   "cell_type": "code",
   "execution_count": 29,
   "id": "2db4edea",
   "metadata": {},
   "outputs": [
    {
     "data": {
      "text/plain": [
       "array([0, 1, 1, ..., 0, 0, 0], dtype=int64)"
      ]
     },
     "execution_count": 29,
     "metadata": {},
     "output_type": "execute_result"
    }
   ],
   "source": [
    "pred_dt = dt.predict(test_x)\n",
    "pred_dt"
   ]
  },
  {
   "cell_type": "code",
   "execution_count": 30,
   "id": "3c4d7634",
   "metadata": {},
   "outputs": [
    {
     "data": {
      "text/plain": [
       "array([[877,  95],\n",
       "       [ 38,  12]], dtype=int64)"
      ]
     },
     "execution_count": 30,
     "metadata": {},
     "output_type": "execute_result"
    }
   ],
   "source": [
    "from sklearn.metrics import confusion_matrix, classification_report\n",
    "tab_dt = confusion_matrix(test_y, pred_dt)\n",
    "tab_dt"
   ]
  },
  {
   "cell_type": "code",
   "execution_count": 31,
   "id": "977e2407",
   "metadata": {},
   "outputs": [
    {
     "name": "stdout",
     "output_type": "stream",
     "text": [
      "              precision    recall  f1-score   support\n",
      "\n",
      "           0       0.96      0.90      0.93       972\n",
      "           1       0.11      0.24      0.15        50\n",
      "\n",
      "    accuracy                           0.87      1022\n",
      "   macro avg       0.54      0.57      0.54      1022\n",
      "weighted avg       0.92      0.87      0.89      1022\n",
      "\n"
     ]
    }
   ],
   "source": [
    "print(classification_report(test_y, pred_dt))"
   ]
  },
  {
   "cell_type": "code",
   "execution_count": 32,
   "id": "13bbf68f",
   "metadata": {},
   "outputs": [],
   "source": [
    "acc_dt = tab_dt.diagonal().sum()*100/tab_dt.sum()\n",
    "recall0_dt = tab_dt[0][0]/(tab_dt[0][1] + tab_dt[0][0])\n",
    "recall1_dt = tab_dt[1][1]/(tab_dt[1][0] + tab_dt[1][1])"
   ]
  },
  {
   "cell_type": "code",
   "execution_count": 33,
   "id": "5638f05f",
   "metadata": {},
   "outputs": [],
   "source": [
    "algorithm.append('Decision Tree')\n",
    "accuracy.append(acc_dt)\n",
    "Recall0.append(recall0_dt)\n",
    "Recall1.append(recall1_dt)"
   ]
  },
  {
   "cell_type": "markdown",
   "id": "219087c8",
   "metadata": {},
   "source": [
    "--------------------------------------------------------------------------------------------------------------------------"
   ]
  },
  {
   "cell_type": "markdown",
   "id": "6615385f",
   "metadata": {},
   "source": [
    "#### Random Forest "
   ]
  },
  {
   "cell_type": "code",
   "execution_count": 34,
   "id": "3f182fe4",
   "metadata": {},
   "outputs": [],
   "source": [
    "from sklearn.ensemble import RandomForestClassifier\n",
    "rf = RandomForestClassifier()"
   ]
  },
  {
   "cell_type": "code",
   "execution_count": 35,
   "id": "8a83df90",
   "metadata": {},
   "outputs": [],
   "source": [
    "estimators.append(('RF',rf))"
   ]
  },
  {
   "cell_type": "code",
   "execution_count": 36,
   "id": "7a1ae4ac",
   "metadata": {},
   "outputs": [
    {
     "data": {
      "text/plain": [
       "RandomForestClassifier()"
      ]
     },
     "execution_count": 36,
     "metadata": {},
     "output_type": "execute_result"
    }
   ],
   "source": [
    "rf.fit(train_x, train_y)"
   ]
  },
  {
   "cell_type": "code",
   "execution_count": 37,
   "id": "478706c4",
   "metadata": {},
   "outputs": [
    {
     "data": {
      "text/plain": [
       "array([0, 1, 0, ..., 0, 0, 0], dtype=int64)"
      ]
     },
     "execution_count": 37,
     "metadata": {},
     "output_type": "execute_result"
    }
   ],
   "source": [
    "pred_rf = rf.predict(test_x)\n",
    "pred_rf"
   ]
  },
  {
   "cell_type": "code",
   "execution_count": 38,
   "id": "272f29db",
   "metadata": {},
   "outputs": [
    {
     "data": {
      "text/plain": [
       "array([[919,  53],\n",
       "       [ 36,  14]], dtype=int64)"
      ]
     },
     "execution_count": 38,
     "metadata": {},
     "output_type": "execute_result"
    }
   ],
   "source": [
    "tab_rf = confusion_matrix(test_y, pred_rf)\n",
    "tab_rf"
   ]
  },
  {
   "cell_type": "code",
   "execution_count": 39,
   "id": "5bfdb124",
   "metadata": {},
   "outputs": [
    {
     "name": "stdout",
     "output_type": "stream",
     "text": [
      "              precision    recall  f1-score   support\n",
      "\n",
      "           0       0.96      0.95      0.95       972\n",
      "           1       0.21      0.28      0.24        50\n",
      "\n",
      "    accuracy                           0.91      1022\n",
      "   macro avg       0.59      0.61      0.60      1022\n",
      "weighted avg       0.93      0.91      0.92      1022\n",
      "\n"
     ]
    }
   ],
   "source": [
    "print(classification_report(test_y, pred_rf))"
   ]
  },
  {
   "cell_type": "code",
   "execution_count": 40,
   "id": "cb3c25a0",
   "metadata": {},
   "outputs": [],
   "source": [
    "acc_rf = tab_rf.diagonal().sum()*100/tab_rf.sum()\n",
    "recall0_rf = tab_rf[0][0]/(tab_rf[0][1] + tab_rf[0][0])\n",
    "recall1_rf = tab_rf[1][1]/(tab_rf[1][0] + tab_rf[1][1])"
   ]
  },
  {
   "cell_type": "code",
   "execution_count": 41,
   "id": "6ce2c0e2",
   "metadata": {},
   "outputs": [],
   "source": [
    "algorithm.append('Random Forest')\n",
    "accuracy.append(acc_rf)\n",
    "Recall0.append(recall0_rf)\n",
    "Recall1.append(recall1_rf)"
   ]
  },
  {
   "cell_type": "markdown",
   "id": "5a077974",
   "metadata": {},
   "source": [
    "-------------------------------------------------------------------------------------------------------------------------"
   ]
  },
  {
   "cell_type": "markdown",
   "id": "0ec2c0ad",
   "metadata": {},
   "source": [
    "#### KNN"
   ]
  },
  {
   "cell_type": "code",
   "execution_count": 42,
   "id": "47847649",
   "metadata": {},
   "outputs": [],
   "source": [
    "from sklearn.neighbors import KNeighborsClassifier\n",
    "knn = KNeighborsClassifier()"
   ]
  },
  {
   "cell_type": "code",
   "execution_count": 43,
   "id": "3090ade4",
   "metadata": {},
   "outputs": [],
   "source": [
    "estimators.append(('KNN',knn))"
   ]
  },
  {
   "cell_type": "code",
   "execution_count": 44,
   "id": "f0fa8800",
   "metadata": {},
   "outputs": [
    {
     "data": {
      "text/plain": [
       "KNeighborsClassifier()"
      ]
     },
     "execution_count": 44,
     "metadata": {},
     "output_type": "execute_result"
    }
   ],
   "source": [
    "knn.fit(train_x, train_y)"
   ]
  },
  {
   "cell_type": "code",
   "execution_count": 45,
   "id": "acc625cb",
   "metadata": {},
   "outputs": [
    {
     "data": {
      "text/plain": [
       "array([0, 1, 0, ..., 0, 0, 0], dtype=int64)"
      ]
     },
     "execution_count": 45,
     "metadata": {},
     "output_type": "execute_result"
    }
   ],
   "source": [
    "pred_knn = knn.predict(test_x)\n",
    "pred_knn"
   ]
  },
  {
   "cell_type": "code",
   "execution_count": 46,
   "id": "d0f6c5bb",
   "metadata": {},
   "outputs": [
    {
     "data": {
      "text/plain": [
       "array([[787, 185],\n",
       "       [ 22,  28]], dtype=int64)"
      ]
     },
     "execution_count": 46,
     "metadata": {},
     "output_type": "execute_result"
    }
   ],
   "source": [
    "tab_knn = confusion_matrix(test_y, pred_knn)\n",
    "tab_knn"
   ]
  },
  {
   "cell_type": "code",
   "execution_count": 47,
   "id": "6f8f2835",
   "metadata": {},
   "outputs": [
    {
     "name": "stdout",
     "output_type": "stream",
     "text": [
      "              precision    recall  f1-score   support\n",
      "\n",
      "           0       0.97      0.81      0.88       972\n",
      "           1       0.13      0.56      0.21        50\n",
      "\n",
      "    accuracy                           0.80      1022\n",
      "   macro avg       0.55      0.68      0.55      1022\n",
      "weighted avg       0.93      0.80      0.85      1022\n",
      "\n"
     ]
    }
   ],
   "source": [
    "print(classification_report(test_y, pred_knn))"
   ]
  },
  {
   "cell_type": "code",
   "execution_count": 48,
   "id": "c2e31fe4",
   "metadata": {},
   "outputs": [],
   "source": [
    "acc_knn = tab_knn.diagonal().sum()*100/tab_knn.sum()\n",
    "recall0_knn = tab_knn[0][0]/(tab_knn[0][1] + tab_knn[0][0])\n",
    "recall1_knn = tab_knn[1][1]/(tab_knn[1][0] + tab_knn[1][1])"
   ]
  },
  {
   "cell_type": "code",
   "execution_count": 49,
   "id": "2209ee71",
   "metadata": {},
   "outputs": [],
   "source": [
    "algorithm.append('KNN')\n",
    "accuracy.append(acc_knn)\n",
    "Recall0.append(recall0_knn)\n",
    "Recall1.append(recall1_knn)"
   ]
  },
  {
   "cell_type": "markdown",
   "id": "58adad82",
   "metadata": {},
   "source": [
    "--------------------------------------------------------------------------------------------------------------------------"
   ]
  },
  {
   "cell_type": "markdown",
   "id": "3e5e871e",
   "metadata": {},
   "source": [
    "#### SVM "
   ]
  },
  {
   "cell_type": "code",
   "execution_count": 50,
   "id": "70fb1dd3",
   "metadata": {},
   "outputs": [],
   "source": [
    "from sklearn.svm import SVC\n",
    "svm = SVC()"
   ]
  },
  {
   "cell_type": "code",
   "execution_count": 51,
   "id": "9672b9d1",
   "metadata": {},
   "outputs": [],
   "source": [
    "estimators.append(('SVM',svm))"
   ]
  },
  {
   "cell_type": "code",
   "execution_count": 52,
   "id": "df1145cc",
   "metadata": {},
   "outputs": [
    {
     "data": {
      "text/plain": [
       "SVC()"
      ]
     },
     "execution_count": 52,
     "metadata": {},
     "output_type": "execute_result"
    }
   ],
   "source": [
    "svm.fit(train_x, train_y)"
   ]
  },
  {
   "cell_type": "code",
   "execution_count": 53,
   "id": "7d40ae60",
   "metadata": {},
   "outputs": [
    {
     "data": {
      "text/plain": [
       "array([0, 0, 0, ..., 0, 0, 0], dtype=int64)"
      ]
     },
     "execution_count": 53,
     "metadata": {},
     "output_type": "execute_result"
    }
   ],
   "source": [
    "pred_svm = svm.predict(test_x)\n",
    "pred_svm"
   ]
  },
  {
   "cell_type": "code",
   "execution_count": 54,
   "id": "5cc6fbda",
   "metadata": {},
   "outputs": [
    {
     "data": {
      "text/plain": [
       "array([[712, 260],\n",
       "       [ 10,  40]], dtype=int64)"
      ]
     },
     "execution_count": 54,
     "metadata": {},
     "output_type": "execute_result"
    }
   ],
   "source": [
    "tab_svm = confusion_matrix(test_y, pred_svm)\n",
    "tab_svm"
   ]
  },
  {
   "cell_type": "code",
   "execution_count": 55,
   "id": "30f3fa06",
   "metadata": {
    "scrolled": true
   },
   "outputs": [
    {
     "name": "stdout",
     "output_type": "stream",
     "text": [
      "              precision    recall  f1-score   support\n",
      "\n",
      "           0       0.99      0.73      0.84       972\n",
      "           1       0.13      0.80      0.23        50\n",
      "\n",
      "    accuracy                           0.74      1022\n",
      "   macro avg       0.56      0.77      0.53      1022\n",
      "weighted avg       0.94      0.74      0.81      1022\n",
      "\n"
     ]
    }
   ],
   "source": [
    "print(classification_report(test_y,pred_svm))"
   ]
  },
  {
   "cell_type": "code",
   "execution_count": 56,
   "id": "cc26b939",
   "metadata": {},
   "outputs": [],
   "source": [
    "acc_svm = tab_svm.diagonal().sum()*100/tab_svm.sum()\n",
    "recall0_svm = tab_svm[0][0]/(tab_svm[0][1] + tab_svm[0][0])\n",
    "recall1_svm = tab_svm[1][1]/(tab_svm[1][0] + tab_svm[1][1])"
   ]
  },
  {
   "cell_type": "code",
   "execution_count": 57,
   "id": "d9ef0b7d",
   "metadata": {},
   "outputs": [],
   "source": [
    "algorithm.append('SVM')\n",
    "accuracy.append(acc_svm)\n",
    "Recall0.append(recall0_svm)\n",
    "Recall1.append(recall1_svm)"
   ]
  },
  {
   "cell_type": "markdown",
   "id": "5b1063ee",
   "metadata": {},
   "source": [
    "---------------------------------------------------------------------------------------------------------------------------"
   ]
  },
  {
   "cell_type": "markdown",
   "id": "ee37a0cc",
   "metadata": {},
   "source": [
    "#### Logistic Regression "
   ]
  },
  {
   "cell_type": "code",
   "execution_count": 58,
   "id": "16a87859",
   "metadata": {},
   "outputs": [],
   "source": [
    "from sklearn.linear_model import LogisticRegression\n",
    "lg = LogisticRegression()"
   ]
  },
  {
   "cell_type": "code",
   "execution_count": 59,
   "id": "a3aacd06",
   "metadata": {},
   "outputs": [],
   "source": [
    "estimators.append(('LR',lg))"
   ]
  },
  {
   "cell_type": "code",
   "execution_count": 60,
   "id": "53c9725f",
   "metadata": {},
   "outputs": [
    {
     "name": "stderr",
     "output_type": "stream",
     "text": [
      "C:\\Users\\manis\\anaconda3\\lib\\site-packages\\sklearn\\linear_model\\_logistic.py:763: ConvergenceWarning: lbfgs failed to converge (status=1):\n",
      "STOP: TOTAL NO. of ITERATIONS REACHED LIMIT.\n",
      "\n",
      "Increase the number of iterations (max_iter) or scale the data as shown in:\n",
      "    https://scikit-learn.org/stable/modules/preprocessing.html\n",
      "Please also refer to the documentation for alternative solver options:\n",
      "    https://scikit-learn.org/stable/modules/linear_model.html#logistic-regression\n",
      "  n_iter_i = _check_optimize_result(\n"
     ]
    },
    {
     "data": {
      "text/plain": [
       "array([0, 0, 0, ..., 0, 0, 0], dtype=int64)"
      ]
     },
     "execution_count": 60,
     "metadata": {},
     "output_type": "execute_result"
    }
   ],
   "source": [
    "lg.fit(train_x, train_y)\n",
    "\n",
    "pred_lg = lg.predict(test_x)\n",
    "pred_lg"
   ]
  },
  {
   "cell_type": "code",
   "execution_count": 61,
   "id": "ab080a78",
   "metadata": {},
   "outputs": [
    {
     "data": {
      "text/plain": [
       "array([[785, 187],\n",
       "       [ 24,  26]], dtype=int64)"
      ]
     },
     "execution_count": 61,
     "metadata": {},
     "output_type": "execute_result"
    }
   ],
   "source": [
    "tab_lg = confusion_matrix(test_y, pred_lg)\n",
    "tab_lg"
   ]
  },
  {
   "cell_type": "code",
   "execution_count": 62,
   "id": "4ddcc93f",
   "metadata": {},
   "outputs": [
    {
     "name": "stdout",
     "output_type": "stream",
     "text": [
      "              precision    recall  f1-score   support\n",
      "\n",
      "           0       0.97      0.81      0.88       972\n",
      "           1       0.12      0.52      0.20        50\n",
      "\n",
      "    accuracy                           0.79      1022\n",
      "   macro avg       0.55      0.66      0.54      1022\n",
      "weighted avg       0.93      0.79      0.85      1022\n",
      "\n"
     ]
    }
   ],
   "source": [
    "print(classification_report(test_y, pred_lg))"
   ]
  },
  {
   "cell_type": "code",
   "execution_count": 63,
   "id": "2e24d13a",
   "metadata": {},
   "outputs": [],
   "source": [
    "acc_lg = tab_lg.diagonal().sum()*100/tab_lg.sum()\n",
    "recall0_lg = tab_lg[0][0]/(tab_lg[0][1] + tab_lg[0][0])\n",
    "recall1_lg = tab_lg[1][1]/(tab_lg[1][0] + tab_lg[1][1])"
   ]
  },
  {
   "cell_type": "code",
   "execution_count": 64,
   "id": "e32ab9a2",
   "metadata": {},
   "outputs": [],
   "source": [
    "algorithm.append('Logistic Regression')\n",
    "accuracy.append(acc_lg)\n",
    "Recall0.append(recall0_lg)\n",
    "Recall1.append(recall1_lg)"
   ]
  },
  {
   "cell_type": "markdown",
   "id": "ed60e798",
   "metadata": {},
   "source": [
    "--------------------------------------------------------------------------------------------------------------------------"
   ]
  },
  {
   "cell_type": "markdown",
   "id": "d5645f67",
   "metadata": {},
   "source": [
    "#### Voting Classifier "
   ]
  },
  {
   "cell_type": "code",
   "execution_count": 65,
   "id": "59309339",
   "metadata": {},
   "outputs": [],
   "source": [
    "from sklearn.ensemble import VotingClassifier\n",
    "vc= VotingClassifier(estimators=estimators)"
   ]
  },
  {
   "cell_type": "code",
   "execution_count": 66,
   "id": "adfddf84",
   "metadata": {},
   "outputs": [
    {
     "name": "stderr",
     "output_type": "stream",
     "text": [
      "C:\\Users\\manis\\anaconda3\\lib\\site-packages\\sklearn\\linear_model\\_logistic.py:763: ConvergenceWarning: lbfgs failed to converge (status=1):\n",
      "STOP: TOTAL NO. of ITERATIONS REACHED LIMIT.\n",
      "\n",
      "Increase the number of iterations (max_iter) or scale the data as shown in:\n",
      "    https://scikit-learn.org/stable/modules/preprocessing.html\n",
      "Please also refer to the documentation for alternative solver options:\n",
      "    https://scikit-learn.org/stable/modules/linear_model.html#logistic-regression\n",
      "  n_iter_i = _check_optimize_result(\n"
     ]
    },
    {
     "data": {
      "text/plain": [
       "VotingClassifier(estimators=[('DT', DecisionTreeClassifier()),\n",
       "                             ('RF', RandomForestClassifier()),\n",
       "                             ('KNN', KNeighborsClassifier()), ('SVM', SVC()),\n",
       "                             ('LR', LogisticRegression())])"
      ]
     },
     "execution_count": 66,
     "metadata": {},
     "output_type": "execute_result"
    }
   ],
   "source": [
    "vc.fit(train_x, train_y)"
   ]
  },
  {
   "cell_type": "code",
   "execution_count": 67,
   "id": "3f7da520",
   "metadata": {},
   "outputs": [
    {
     "data": {
      "text/plain": [
       "array([0, 1, 0, ..., 0, 0, 0], dtype=int64)"
      ]
     },
     "execution_count": 67,
     "metadata": {},
     "output_type": "execute_result"
    }
   ],
   "source": [
    "pred_vc = vc.predict(test_x)\n",
    "pred_vc"
   ]
  },
  {
   "cell_type": "code",
   "execution_count": 68,
   "id": "92d94915",
   "metadata": {},
   "outputs": [
    {
     "data": {
      "text/plain": [
       "array([[848, 124],\n",
       "       [ 28,  22]], dtype=int64)"
      ]
     },
     "execution_count": 68,
     "metadata": {},
     "output_type": "execute_result"
    }
   ],
   "source": [
    "tab_vc = confusion_matrix(test_y, pred_vc)\n",
    "tab_vc"
   ]
  },
  {
   "cell_type": "code",
   "execution_count": 69,
   "id": "8571adea",
   "metadata": {},
   "outputs": [
    {
     "name": "stdout",
     "output_type": "stream",
     "text": [
      "              precision    recall  f1-score   support\n",
      "\n",
      "           0       0.97      0.87      0.92       972\n",
      "           1       0.15      0.44      0.22        50\n",
      "\n",
      "    accuracy                           0.85      1022\n",
      "   macro avg       0.56      0.66      0.57      1022\n",
      "weighted avg       0.93      0.85      0.88      1022\n",
      "\n"
     ]
    }
   ],
   "source": [
    "print(classification_report(test_y, pred_vc))"
   ]
  },
  {
   "cell_type": "code",
   "execution_count": 70,
   "id": "70b1898d",
   "metadata": {},
   "outputs": [],
   "source": [
    "acc_vc = tab_vc.diagonal().sum()*100/tab_vc.sum()\n",
    "recall0_vc = tab_vc[0][0]/(tab_vc[0][1] + tab_vc[0][0])\n",
    "recall1_vc = tab_vc[1][1]/(tab_vc[1][0] + tab_vc[1][1])"
   ]
  },
  {
   "cell_type": "code",
   "execution_count": 71,
   "id": "24d5793f",
   "metadata": {},
   "outputs": [],
   "source": [
    "algorithm.append('Voting Classifier')\n",
    "accuracy.append(acc_vc)\n",
    "Recall0.append(recall0_vc)\n",
    "Recall1.append(recall1_vc)"
   ]
  },
  {
   "cell_type": "markdown",
   "id": "5dad0324",
   "metadata": {},
   "source": [
    "### Model Evaluation"
   ]
  },
  {
   "cell_type": "code",
   "execution_count": 72,
   "id": "c02ace1d",
   "metadata": {
    "scrolled": true
   },
   "outputs": [
    {
     "data": {
      "text/html": [
       "<div>\n",
       "<style scoped>\n",
       "    .dataframe tbody tr th:only-of-type {\n",
       "        vertical-align: middle;\n",
       "    }\n",
       "\n",
       "    .dataframe tbody tr th {\n",
       "        vertical-align: top;\n",
       "    }\n",
       "\n",
       "    .dataframe thead th {\n",
       "        text-align: right;\n",
       "    }\n",
       "</style>\n",
       "<table border=\"1\" class=\"dataframe\">\n",
       "  <thead>\n",
       "    <tr style=\"text-align: right;\">\n",
       "      <th></th>\n",
       "      <th>Algorithms</th>\n",
       "      <th>Accuracy</th>\n",
       "      <th>Recall 0</th>\n",
       "      <th>Recall 1</th>\n",
       "    </tr>\n",
       "  </thead>\n",
       "  <tbody>\n",
       "    <tr>\n",
       "      <th>0</th>\n",
       "      <td>Decision Tree</td>\n",
       "      <td>86.986301</td>\n",
       "      <td>0.902263</td>\n",
       "      <td>0.24</td>\n",
       "    </tr>\n",
       "    <tr>\n",
       "      <th>1</th>\n",
       "      <td>Random Forest</td>\n",
       "      <td>91.291585</td>\n",
       "      <td>0.945473</td>\n",
       "      <td>0.28</td>\n",
       "    </tr>\n",
       "    <tr>\n",
       "      <th>2</th>\n",
       "      <td>KNN</td>\n",
       "      <td>79.745597</td>\n",
       "      <td>0.809671</td>\n",
       "      <td>0.56</td>\n",
       "    </tr>\n",
       "    <tr>\n",
       "      <th>3</th>\n",
       "      <td>SVM</td>\n",
       "      <td>73.581213</td>\n",
       "      <td>0.732510</td>\n",
       "      <td>0.80</td>\n",
       "    </tr>\n",
       "    <tr>\n",
       "      <th>4</th>\n",
       "      <td>Logistic Regression</td>\n",
       "      <td>79.354207</td>\n",
       "      <td>0.807613</td>\n",
       "      <td>0.52</td>\n",
       "    </tr>\n",
       "    <tr>\n",
       "      <th>5</th>\n",
       "      <td>Voting Classifier</td>\n",
       "      <td>85.127202</td>\n",
       "      <td>0.872428</td>\n",
       "      <td>0.44</td>\n",
       "    </tr>\n",
       "  </tbody>\n",
       "</table>\n",
       "</div>"
      ],
      "text/plain": [
       "            Algorithms   Accuracy  Recall 0  Recall 1\n",
       "0        Decision Tree  86.986301  0.902263      0.24\n",
       "1        Random Forest  91.291585  0.945473      0.28\n",
       "2                  KNN  79.745597  0.809671      0.56\n",
       "3                  SVM  73.581213  0.732510      0.80\n",
       "4  Logistic Regression  79.354207  0.807613      0.52\n",
       "5    Voting Classifier  85.127202  0.872428      0.44"
      ]
     },
     "execution_count": 72,
     "metadata": {},
     "output_type": "execute_result"
    }
   ],
   "source": [
    "Eval = pd.DataFrame({'Algorithms':algorithm, 'Accuracy':accuracy, 'Recall 0':Recall0, 'Recall 1':Recall1})\n",
    "Eval"
   ]
  },
  {
   "cell_type": "markdown",
   "id": "0b6c79bf",
   "metadata": {},
   "source": [
    "# * **We can see that all the algorithms are giving good accuracy but their recall for class 1 is very low except for SVM**\n",
    "# * **And in this problem statement we want model who is giving good value of Recall 1**\n",
    "# * **Here, SVM is giving good values of Recall 0 as well as Recall 1**"
   ]
  },
  {
   "cell_type": "code",
   "execution_count": null,
   "id": "bd1ceb5d",
   "metadata": {},
   "outputs": [],
   "source": []
  },
  {
   "cell_type": "code",
   "execution_count": null,
   "id": "ff738814",
   "metadata": {},
   "outputs": [],
   "source": []
  }
 ],
 "metadata": {
  "kernelspec": {
   "display_name": "Python 3",
   "language": "python",
   "name": "python3"
  },
  "language_info": {
   "codemirror_mode": {
    "name": "ipython",
    "version": 3
   },
   "file_extension": ".py",
   "mimetype": "text/x-python",
   "name": "python",
   "nbconvert_exporter": "python",
   "pygments_lexer": "ipython3",
   "version": "3.8.8"
  }
 },
 "nbformat": 4,
 "nbformat_minor": 5
}
